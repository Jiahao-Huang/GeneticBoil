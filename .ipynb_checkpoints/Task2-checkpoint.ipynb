{
 "cells": [
  {
   "cell_type": "code",
   "execution_count": 111,
   "metadata": {},
   "outputs": [],
   "source": [
    "from random import random\n",
    "from random import seed\n",
    "seed(1)\n",
    "\n",
    "import pandas as pd\n",
    "import numpy as np"
   ]
  },
  {
   "cell_type": "code",
   "execution_count": 147,
   "metadata": {},
   "outputs": [],
   "source": [
    "# Config\n",
    "MFRAC = 0.5\n",
    "# Initial guess\n",
    "ni = np.array([0.00027, 4.0, 0.063, 1.215, 0.145])\n",
    "delta_n = np.array([0.0001, 0.001, 0.0001, 0.0001, 0.0001])\n",
    "# Mutation step\n",
    "mutation = np.array([0.09, 0.09, 0.09, 0.09, 0.09])"
   ]
  },
  {
   "cell_type": "code",
   "execution_count": 156,
   "metadata": {},
   "outputs": [],
   "source": [
    "# Read data\n",
    "ydata = pd.read_csv(\"./data/data1.csv\")\n",
    "\n",
    "ND = ydata.shape[0]        #number of data vectors in array\n",
    "DI = ydata.shape[1]        #number of data items in vector\n",
    "NS = ND                    #total number of DNA strands\n",
    "\n",
    "# log\n",
    "lydata = ydata.copy()\n",
    "lydata = np.log(lydata + 1e-12)\n",
    "\n",
    "# Initializing n\n",
    "n = np.array([(ni + [random() for i in range(DI)] * delta_n) for i in range(ND)] )  # 45x5 randomized initial value"
   ]
  },
  {
   "cell_type": "code",
   "execution_count": 159,
   "metadata": {},
   "outputs": [],
   "source": [
    "# Functions needed\n",
    "# Error and Selection\n",
    "def selection(n, lydata, MFRAC=MFRAC):\n",
    "    # Error calculation\n",
    "    Ferr = -lydata[\"HeatFlux\"] + np.log(n[:, 0]) + n[:, 1] * lydata[\"Superheat\"] + n[:, 2] * lydata[\"g\"]\n",
    "    aFerr = np.abs(Ferr) / np.abs(lydata[\"HeatFlux\"])\n",
    "    aFerrMean = np.mean(aFerr)\n",
    "    aFerrMedian = np.median(aFerr)\n",
    "    \n",
    "    # Sorting\n",
    "    sorted_id = np.argsort(aFerr)\n",
    "    aFerr[:] = aFerr[sorted_id]\n",
    "    sorted_n[:] = n[sorted_id]\n",
    "    \n",
    "    # Selection\n",
    "    clim = MFRAC * aFerrMedian\n",
    "    nkeep = np.searchsorted(aFerr, clim)\n",
    "    return sorted_n, nkeep\n",
    "\n",
    "# Mating\n",
    "def mating(sorted_n, nkeep):\n",
    "    if nkeep == sorted_n.shape[0]:\n",
    "        print(\"NOT MATING\")\n",
    "        return sorted_n\n",
    "    \n",
    "    for row in sorted_n[nkeep:, :]:\n",
    "        # Randomly choose 2 parents\n",
    "        parents = [sorted_n[np.random.randint(0, nkeep+1)] for i in range(2)]\n",
    "        \n",
    "        # Choose which parent to inherit from\n",
    "        # inherit[i] = 0 or 1\n",
    "        inherit = [np.random.randint(0, 2) for i in range(DI)]\n",
    "        r = [parents[inherit[i]][i] for i in range(DI)]\n",
    "        \n",
    "        # Mutation\n",
    "        mut_rate = [(2*(0.5-np.random.rand())) for i in range(DI)]\n",
    "        row[:] = r * (1 + mut_rate * mutation)\n",
    "    return sorted_n\n",
    "        \n",
    "        \n",
    "    "
   ]
  },
  {
   "cell_type": "code",
   "execution_count": 161,
   "metadata": {},
   "outputs": [],
   "source": [
    "# Main\n",
    "for i in range(6000):\n",
    "    sorted_n, nkeep = selection(n, lydata)\n",
    "    n = mating(sorted_n, nkeep)"
   ]
  },
  {
   "cell_type": "code",
   "execution_count": null,
   "metadata": {},
   "outputs": [],
   "source": []
  },
  {
   "cell_type": "code",
   "execution_count": null,
   "metadata": {},
   "outputs": [],
   "source": []
  },
  {
   "cell_type": "code",
   "execution_count": null,
   "metadata": {},
   "outputs": [],
   "source": []
  },
  {
   "cell_type": "code",
   "execution_count": null,
   "metadata": {},
   "outputs": [],
   "source": []
  },
  {
   "cell_type": "code",
   "execution_count": null,
   "metadata": {},
   "outputs": [],
   "source": []
  },
  {
   "cell_type": "code",
   "execution_count": null,
   "metadata": {},
   "outputs": [],
   "source": []
  },
  {
   "cell_type": "code",
   "execution_count": null,
   "metadata": {},
   "outputs": [],
   "source": []
  }
 ],
 "metadata": {
  "kernelspec": {
   "display_name": "Python 3",
   "language": "python",
   "name": "python3"
  },
  "language_info": {
   "codemirror_mode": {
    "name": "ipython",
    "version": 3
   },
   "file_extension": ".py",
   "mimetype": "text/x-python",
   "name": "python",
   "nbconvert_exporter": "python",
   "pygments_lexer": "ipython3",
   "version": "3.7.6"
  }
 },
 "nbformat": 4,
 "nbformat_minor": 2
}
