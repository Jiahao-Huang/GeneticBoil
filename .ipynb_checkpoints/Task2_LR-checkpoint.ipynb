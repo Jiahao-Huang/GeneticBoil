{
 "cells": [
  {
   "cell_type": "code",
   "execution_count": 6,
   "metadata": {},
   "outputs": [],
   "source": [
    "from sklearn.linear_model import LinearRegression\n",
    "import numpy as np\n",
    "import pandas as pd\n",
    "\n",
    "ydata = pd.read_csv(\"./data/data1.csv\")\n",
    "lydata = ydata.copy()\n",
    "lydata = np.log(lydata + 1e-12)\n",
    "\n",
    "x = lydata[[\"Superheat\", \"g\"]]\n",
    "y = lydata[\"HeatFlux\"]\n"
   ]
  },
  {
   "cell_type": "code",
   "execution_count": 11,
   "metadata": {},
   "outputs": [
    {
     "name": "stdout",
     "output_type": "stream",
     "text": [
      "0.00393328330847546\n",
      "[2.74556423 0.04943277]\n"
     ]
    }
   ],
   "source": [
    "# Model\n",
    "model = LinearRegression()\n",
    "model = model.fit(x, y)\n",
    "print(np.exp(model.intercept_))\n",
    "print(model.coef_)"
   ]
  },
  {
   "cell_type": "code",
   "execution_count": 13,
   "metadata": {},
   "outputs": [
    {
     "name": "stdout",
     "output_type": "stream",
     "text": [
      "0.029947741735811464\n"
     ]
    }
   ],
   "source": [
    "def AFERR(n, lydata):\n",
    "    Ferr = -lydata[\"HeatFlux\"] + np.log(n[:, 0]) + n[:, 1] * lydata[\"Superheat\"] + n[:, 2] * lydata[\"g\"]\n",
    "    aFerr = np.abs(Ferr) / np.abs(lydata[\"HeatFlux\"])\n",
    "    return aFerr\n",
    "\n",
    "n = np.array([[np.exp(model.intercept_), model.coef_[0], model.coef_[1]]])\n",
    "print(np.mean(AFERR(n, lydata)))"
   ]
  },
  {
   "cell_type": "code",
   "execution_count": null,
   "metadata": {},
   "outputs": [],
   "source": []
  }
 ],
 "metadata": {
  "kernelspec": {
   "display_name": "Python 3",
   "language": "python",
   "name": "python3"
  },
  "language_info": {
   "codemirror_mode": {
    "name": "ipython",
    "version": 3
   },
   "file_extension": ".py",
   "mimetype": "text/x-python",
   "name": "python",
   "nbconvert_exporter": "python",
   "pygments_lexer": "ipython3",
   "version": "3.7.6"
  }
 },
 "nbformat": 4,
 "nbformat_minor": 4
}
