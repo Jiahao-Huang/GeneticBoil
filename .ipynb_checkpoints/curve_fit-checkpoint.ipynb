{
 "cells": [
  {
   "cell_type": "code",
   "execution_count": 24,
   "metadata": {},
   "outputs": [],
   "source": [
    "import pandas as pd\n",
    "import numpy as np\n",
    "\n",
    "ydata = pd.read_csv(\"./data/data3.csv\")\n",
    "lydata = ydata.copy()\n",
    "lydata = np.log(lydata + 1e-12)\n",
    "gen=9.8"
   ]
  },
  {
   "cell_type": "code",
   "execution_count": 25,
   "metadata": {},
   "outputs": [],
   "source": [
    "y = ydata[\"Qs\"]\n",
    "x = ydata[[\"Jas\", \"g/gen\", \"SurfaceTension\", \"Prl\"]]"
   ]
  },
  {
   "cell_type": "code",
   "execution_count": 26,
   "metadata": {},
   "outputs": [],
   "source": [
    "def fun(x, n1, n2, n3, n4, n5):\n",
    "    y = n1 * np.power(x[\"Jas\"], n2) * np.power((ydata[\"g/gen\"]+n4*ydata[\"SurfaceTension\"]), n3) * np.power(ydata[\"Prl\"], -n5)\n",
    "    return y\n",
    "\n"
   ]
  },
  {
   "cell_type": "code",
   "execution_count": 27,
   "metadata": {},
   "outputs": [],
   "source": [
    "# Regression\n",
    "from scipy import optimize\n",
    "n = optimize.curve_fit(fun, x, y)[0]"
   ]
  },
  {
   "cell_type": "code",
   "execution_count": 33,
   "metadata": {},
   "outputs": [],
   "source": [
    "def pred_true(n, label):\n",
    "    # Calculating y_pred\n",
    "    n = n.reshape(1,-1)\n",
    "    y_pred = np.log(n[:, 0]) + n[:, 1] * lydata[\"Jas\"] + n[:, 2] * np.log(ydata[\"g/gen\"] + n[:, 3]*ydata[\"SurfaceTension\"]) - n[:, 4]*lydata[\"Prl\"]\n",
    "    y_pred = np.exp(y_pred)\n",
    "    y_true = ydata[\"Qs\"]\n",
    "    # Plotting\n",
    "    plt.scatter(y_pred, y_true, label=label)\n",
    "\n",
    "# Deviation and other statistic results\n",
    "def stat(n):\n",
    "    n = n.reshape(1,-1)\n",
    "    y_pred = np.log(n[:, 0]) + n[:, 1] * lydata[\"Jas\"] + n[:, 2] * np.log(ydata[\"g/gen\"] + n[:, 3]*ydata[\"SurfaceTension\"]) - n[:, 4]*lydata[\"Prl\"]\n",
    "    y_pred = np.exp(y_pred)\n",
    "    y_true = ydata[\"Qs\"]\n",
    "    relErr = (y_pred-y_true) / y_true\n",
    "    mean = np.sqrt((np.mean(relErr * relErr) / relErr.shape[0]))\n",
    "    dev = np.std(relErr)\n",
    "    unacc_rate = np.where((relErr > 0.1)| (relErr < -0.1))[0].shape[0] / relErr.shape[0]\n",
    "    print(\"RMSError: %f, RMSDeviation: %f, Unacceptable Rate: %f\"%(mean, dev, unacc_rate))\n",
    "    return mean, dev, unacc_rate"
   ]
  },
  {
   "cell_type": "code",
   "execution_count": 34,
   "metadata": {},
   "outputs": [
    {
     "name": "stdout",
     "output_type": "stream",
     "text": [
      "[0.1214865  2.50883311 0.42094119 1.29645474 1.73340528]\n",
      "RMSError: 0.017334, RMSDeviation: 0.147244, Unacceptable Rate: 0.376623\n"
     ]
    },
    {
     "data": {
      "text/plain": [
       "(0.017333830148191762, 0.14724375449840948, 0.37662337662337664)"
      ]
     },
     "execution_count": 34,
     "metadata": {},
     "output_type": "execute_result"
    }
   ],
   "source": [
    "print(n)\n",
    "stat(n)"
   ]
  },
  {
   "cell_type": "code",
   "execution_count": null,
   "metadata": {},
   "outputs": [],
   "source": []
  }
 ],
 "metadata": {
  "kernelspec": {
   "display_name": "Python 3",
   "language": "python",
   "name": "python3"
  },
  "language_info": {
   "codemirror_mode": {
    "name": "ipython",
    "version": 3
   },
   "file_extension": ".py",
   "mimetype": "text/x-python",
   "name": "python",
   "nbconvert_exporter": "python",
   "pygments_lexer": "ipython3",
   "version": "3.7.6"
  }
 },
 "nbformat": 4,
 "nbformat_minor": 4
}
