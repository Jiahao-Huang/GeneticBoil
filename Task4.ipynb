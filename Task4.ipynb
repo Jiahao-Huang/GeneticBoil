{
 "cells": [
  {
   "cell_type": "code",
   "execution_count": 10,
   "metadata": {},
   "outputs": [],
   "source": [
    "import pandas as pd\n",
    "import numpy as np\n",
    "\n"
   ]
  },
  {
   "cell_type": "code",
   "execution_count": 87,
   "metadata": {},
   "outputs": [],
   "source": [
    "# Constants\n",
    "gen=9.8\n",
    "const_names = [\"Tsat\", \"cpl\", \"hlv\", \"ul\", \"Prl\", \"rhol\", \"rhov\", \"sigma\"]\n",
    "consts = {\n",
    "    \"5.5\": [34.9, 4.18, 2418, 7.19e-4, 4.83, 994, 0.0397, 0.0706],\n",
    "    \"7.0\": [38.0, 4.18, 2406, 6.53e-4, 4.54, 993, 0.0476, 0.0692],\n",
    "    \"9.5\": [45.0, 4.18, 2394, 5.96e-4, 3.91, 990, 0.182, 0.0688]\n",
    "}\n",
    "const5_5 = np.array([34.9, 4.18, 2418, 7.19e-4, 4.83, 994, 0.0397, 0.0706])\n",
    "const7_0 = np.array([38.0, 4.18, 2406, 6.53e-4, 4.54, 993, 0.0476, 0.0692])\n",
    "const9_5 = np.array([45.0, 4.18, 2394, 5.96e-4, 3.91, 990, 0.182, 0.0688])"
   ]
  },
  {
   "cell_type": "code",
   "execution_count": 88,
   "metadata": {},
   "outputs": [
    {
     "name": "stdout",
     "output_type": "stream",
     "text": [
      "Index(['HeatFlux', 'Superheat', 'g', 'SurfaceTension', 'p', 'Tsat', 'cpl',\n",
      "       'hlv', 'ul', 'Prl', 'rhol', 'rhov', 'sigma'],\n",
      "      dtype='object')\n"
     ]
    }
   ],
   "source": [
    "# Read data\n",
    "ydata = pd.read_csv(\"./data/data2.csv\")\n",
    "for n in const_names:\n",
    "    ydata.insert(ydata.shape[1], n, 0)\n",
    "\n",
    "# Add constants\n",
    "ydata[const_names] = ydata[\"p\"].apply(lambda x: pd.Series(consts[str(x)]))\n",
    "print(ydata.columns)"
   ]
  },
  {
   "cell_type": "code",
   "execution_count": 94,
   "metadata": {},
   "outputs": [
    {
     "name": "stdout",
     "output_type": "stream",
     "text": [
      "          Qs       Jas   Prl  g/gen  SurfaceTension\n",
      "0   0.682902  5.618280  4.83   0.01            1.79\n",
      "1   0.734003  5.739289  4.83   0.01            1.79\n",
      "2   0.764974  5.912159  4.83   0.01            1.79\n",
      "3   0.916730  6.015881  4.83   0.01            1.79\n",
      "4   1.049903  6.275186  4.83   0.01            1.79\n",
      "..       ...       ...   ...    ...             ...\n",
      "72  1.599631  7.191398  4.83   0.01            1.71\n",
      "73  1.811780  7.450703  4.83   0.01            1.71\n",
      "74  2.146262  7.848304  4.83   0.01            1.71\n",
      "75  2.503973  8.280480  4.83   0.01            1.71\n",
      "76  3.213200  8.799090  4.83   0.01            1.71\n",
      "\n",
      "[77 rows x 5 columns]\n"
     ]
    }
   ],
   "source": [
    "# non-dimensional constants\n",
    "ydata[\"Qs\"] = 10 * ydata[\"HeatFlux\"] / ydata[\"ul\"] / ydata[\"hlv\"] * np.sqrt(ydata[\"sigma\"]/gen/(ydata[\"rhol\"]-ydata[\"rhov\"]))\n",
    "ydata[\"Jas\"] = 100 * ydata[\"cpl\"] * ydata[\"Superheat\"] / ydata[\"hlv\"]\n",
    "ydata[\"g/gen\"] = ydata[\"g\"] / gen\n",
    "ydata = ydata[[\"Qs\", \"Jas\", \"Prl\", \"g/gen\", \"SurfaceTension\"]]\n",
    "ydata.to_csv(\"./data/data3.csv\", index=False, sep=\",\")\n",
    "print(ydata)"
   ]
  },
  {
   "cell_type": "code",
   "execution_count": null,
   "metadata": {},
   "outputs": [],
   "source": []
  }
 ],
 "metadata": {
  "kernelspec": {
   "display_name": "Python 3",
   "language": "python",
   "name": "python3"
  },
  "language_info": {
   "codemirror_mode": {
    "name": "ipython",
    "version": 3
   },
   "file_extension": ".py",
   "mimetype": "text/x-python",
   "name": "python",
   "nbconvert_exporter": "python",
   "pygments_lexer": "ipython3",
   "version": "3.7.6"
  }
 },
 "nbformat": 4,
 "nbformat_minor": 4
}
