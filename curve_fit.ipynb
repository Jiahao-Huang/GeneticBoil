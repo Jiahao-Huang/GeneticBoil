{
 "cells": [
  {
   "cell_type": "code",
   "execution_count": 22,
   "metadata": {},
   "outputs": [],
   "source": [
    "import pandas as pd\n",
    "import numpy as np\n",
    "\n",
    "ydata = pd.read_csv(\"./data/data2.csv\")\n",
    "lydata = ydata.copy()\n",
    "lydata = np.log(lydata + 1e-12)\n",
    "gen=9.8"
   ]
  },
  {
   "cell_type": "code",
   "execution_count": 8,
   "metadata": {},
   "outputs": [],
   "source": [
    "y = ydata[\"HeatFlux\"]\n",
    "x = ydata[[\"Superheat\", \"g\", \"SurfaceTension\", \"p\"]]"
   ]
  },
  {
   "cell_type": "code",
   "execution_count": 13,
   "metadata": {},
   "outputs": [],
   "source": [
    "def fun(x, n1, n2, n3, n4, n5):\n",
    "    y = n1 * np.power(x[\"Superheat\"], n2) * np.power((ydata[\"g\"]+n4*9.8*ydata[\"SurfaceTension\"]), n3) * np.power(ydata[\"p\"], n5)\n",
    "    return y\n",
    "\n"
   ]
  },
  {
   "cell_type": "code",
   "execution_count": 16,
   "metadata": {},
   "outputs": [],
   "source": [
    "# Regression\n",
    "from scipy import optimize\n",
    "n = optimize.curve_fit(fun, x, y)[0]"
   ]
  },
  {
   "cell_type": "code",
   "execution_count": 17,
   "metadata": {},
   "outputs": [],
   "source": [
    "def pred_true(n, label):\n",
    "    # Calculating y_pred\n",
    "    n = n.reshape(1,-1)\n",
    "    y_pred = np.log(n[:, 0]) + n[:, 1] * lydata[\"Superheat\"] + n[:, 2] * np.log(ydata[\"g\"] + n[:, 3]*gen*ydata[\"SurfaceTension\"]) + n[:, 4]*lydata[\"p\"]\n",
    "    y_pred = np.exp(y_pred)\n",
    "    y_true = ydata[\"HeatFlux\"]\n",
    "    # Plotting\n",
    "    plt.scatter(y_pred, y_true, label=label)\n",
    "\n",
    "# Deviation and other statistic results\n",
    "def stat(n):\n",
    "    n = n.reshape(1,-1)\n",
    "    y_pred = np.exp(np.log(n[:, 0]) + n[:, 1] * lydata[\"Superheat\"] + n[:, 2] * np.log(ydata[\"g\"] + n[:, 3]*gen*ydata[\"SurfaceTension\"]) + n[:, 4]*lydata[\"p\"])\n",
    "    y_true = ydata[\"HeatFlux\"]\n",
    "    relErr = (y_pred-y_true) / y_true\n",
    "    mean = np.sqrt((np.mean(relErr * relErr) / relErr.shape[0]))\n",
    "    dev = np.std(relErr)\n",
    "    unacc_rate = np.where((relErr > 0.1)| (relErr < -0.1))[0].shape[0] / relErr.shape[0]\n",
    "    print(\"RMSError: %f, RMSDeviation: %f, Unacceptable Rate: %f\"%(mean, dev, unacc_rate))\n",
    "    return mean, dev, unacc_rate"
   ]
  },
  {
   "cell_type": "code",
   "execution_count": 23,
   "metadata": {},
   "outputs": [
    {
     "name": "stdout",
     "output_type": "stream",
     "text": [
      "RMSError: 0.017526, RMSDeviation: 0.148538, Unacceptable Rate: 0.363636\n"
     ]
    },
    {
     "data": {
      "text/plain": [
       "(0.01752612658279503, 0.14853762485137778, 0.36363636363636365)"
      ]
     },
     "execution_count": 23,
     "metadata": {},
     "output_type": "execute_result"
    }
   ],
   "source": [
    "stat(n)"
   ]
  },
  {
   "cell_type": "code",
   "execution_count": null,
   "metadata": {},
   "outputs": [],
   "source": []
  }
 ],
 "metadata": {
  "kernelspec": {
   "display_name": "Python 3",
   "language": "python",
   "name": "python3"
  },
  "language_info": {
   "codemirror_mode": {
    "name": "ipython",
    "version": 3
   },
   "file_extension": ".py",
   "mimetype": "text/x-python",
   "name": "python",
   "nbconvert_exporter": "python",
   "pygments_lexer": "ipython3",
   "version": "3.7.6"
  }
 },
 "nbformat": 4,
 "nbformat_minor": 4
}
