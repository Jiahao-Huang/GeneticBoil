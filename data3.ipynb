{
 "cells": [
  {
   "cell_type": "code",
   "execution_count": 1,
   "metadata": {},
   "outputs": [],
   "source": [
    "import pandas as pd\n",
    "import numpy as np\n",
    "\n",
    "ydata = [[50.9, 37.2, 0.098, 1.79, 5.5], [75.1, 37.7, 0.098, 1.79, 5.5], [99.2, 39.7, 0.098, 1.79, 5.5], [147.7, 47.2, 0.098, 1.79, 5.5], [172.1, 49.7, 9.8, 1.79, 5.5], [49.2, 29.6, 19.6, 1.79, 9.5], [71.6, 30.0, 19.6, 1.79, 9.5], [129.8, 36.4, 19.6, 1.79, 9.5],[173.8, 42.8, 19.6, 1.79, 9.5], [68.7, 32.1, 19.6, 1.79, 5.5], [128.5, 38.0, 19.6, 1.79, 5.5], [69.0, 40.1, 9.8, 0.0, 7.0], [58.2, 37.1, 9.8, 0.0, 7.0], [100.3, 41.2, 0.098, 1.71, 5.5], [156.9, 47.4, 0.098, 1.71, 5.5]]\n"
   ]
  },
  {
   "cell_type": "code",
   "execution_count": 2,
   "metadata": {},
   "outputs": [],
   "source": [
    "ydata = pd.DataFrame(ydata, columns=[\"HeatFlux\", \"Superheat\", \"g\", \"SurfaceTension\", \"p\"])"
   ]
  },
  {
   "cell_type": "code",
   "execution_count": 3,
   "metadata": {},
   "outputs": [],
   "source": [
    "# Constants\n",
    "gen=9.8\n",
    "const_names = [\"Tsat\", \"cpl\", \"hlv\", \"ul\", \"Prl\", \"rhol\", \"rhov\", \"sigma\"]\n",
    "consts = {\n",
    "    \"5.5\": [34.9, 4.18, 2418, 7.19e-4, 4.83, 994, 0.0397, 0.0706],\n",
    "    \"7.0\": [38.0, 4.18, 2406, 6.53e-4, 4.54, 993, 0.0476, 0.0692],\n",
    "    \"9.5\": [45.0, 4.18, 2394, 5.96e-4, 3.91, 990, 0.182, 0.0688]\n",
    "}\n",
    "const5_5 = np.array([34.9, 4.18, 2418, 7.19e-4, 4.83, 994, 0.0397, 0.0706])\n",
    "const7_0 = np.array([38.0, 4.18, 2406, 6.53e-4, 4.54, 993, 0.0476, 0.0692])\n",
    "const9_5 = np.array([45.0, 4.18, 2394, 5.96e-4, 3.91, 990, 0.182, 0.0688])"
   ]
  },
  {
   "cell_type": "code",
   "execution_count": 4,
   "metadata": {},
   "outputs": [
    {
     "name": "stdout",
     "output_type": "stream",
     "text": [
      "Index(['HeatFlux', 'Superheat', 'g', 'SurfaceTension', 'p', 'Tsat', 'cpl',\n",
      "       'hlv', 'ul', 'Prl', 'rhol', 'rhov', 'sigma'],\n",
      "      dtype='object')\n"
     ]
    }
   ],
   "source": [
    "# Read data\n",
    "for n in const_names:\n",
    "    ydata.insert(ydata.shape[1], n, 0)\n",
    "\n",
    "# Add constants\n",
    "ydata[const_names] = ydata[\"p\"].apply(lambda x: pd.Series(consts[str(x)]))\n",
    "print(ydata.columns)"
   ]
  },
  {
   "cell_type": "code",
   "execution_count": 5,
   "metadata": {},
   "outputs": [
    {
     "name": "stdout",
     "output_type": "stream",
     "text": [
      "    HeatFlux  Superheat       g  SurfaceTension    p  Tsat   cpl     hlv  \\\n",
      "0       50.9       37.2   0.098            1.79  5.5  34.9  4.18  2418.0   \n",
      "1       75.1       37.7   0.098            1.79  5.5  34.9  4.18  2418.0   \n",
      "2       99.2       39.7   0.098            1.79  5.5  34.9  4.18  2418.0   \n",
      "3      147.7       47.2   0.098            1.79  5.5  34.9  4.18  2418.0   \n",
      "4      172.1       49.7   9.800            1.79  5.5  34.9  4.18  2418.0   \n",
      "5       49.2       29.6  19.600            1.79  9.5  45.0  4.18  2394.0   \n",
      "6       71.6       30.0  19.600            1.79  9.5  45.0  4.18  2394.0   \n",
      "7      129.8       36.4  19.600            1.79  9.5  45.0  4.18  2394.0   \n",
      "8      173.8       42.8  19.600            1.79  9.5  45.0  4.18  2394.0   \n",
      "9       68.7       32.1  19.600            1.79  5.5  34.9  4.18  2418.0   \n",
      "10     128.5       38.0  19.600            1.79  5.5  34.9  4.18  2418.0   \n",
      "11      69.0       40.1   9.800            0.00  7.0  38.0  4.18  2406.0   \n",
      "12      58.2       37.1   9.800            0.00  7.0  38.0  4.18  2406.0   \n",
      "13     100.3       41.2   0.098            1.71  5.5  34.9  4.18  2418.0   \n",
      "14     156.9       47.4   0.098            1.71  5.5  34.9  4.18  2418.0   \n",
      "\n",
      "          ul   Prl   rhol    rhov   sigma         Qs       Jas  g/gen  \n",
      "0   0.000719  4.83  994.0  0.0397  0.0706   7.882017  6.430769   0.01  \n",
      "1   0.000719  4.83  994.0  0.0397  0.0706  11.629460  6.517204   0.01  \n",
      "2   0.000719  4.83  994.0  0.0397  0.0706  15.361417  6.862945   0.01  \n",
      "3   0.000719  4.83  994.0  0.0397  0.0706  22.871787  8.159471   0.01  \n",
      "4   0.000719  4.83  994.0  0.0397  0.0706  26.650200  8.591646   1.00  \n",
      "5   0.000596  3.91  990.0  0.1820  0.0688   9.183288  5.168254   2.00  \n",
      "6   0.000596  3.91  990.0  0.1820  0.0688  13.364297  5.238095   2.00  \n",
      "7   0.000596  3.91  990.0  0.1820  0.0688  24.227455  6.355556   2.00  \n",
      "8   0.000596  3.91  990.0  0.1820  0.0688  32.440152  7.473016   2.00  \n",
      "9   0.000719  4.83  994.0  0.0397  0.0706  10.638401  5.549132   2.00  \n",
      "10  0.000719  4.83  994.0  0.0397  0.0706  19.898610  6.569065   2.00  \n",
      "11  0.000653  4.54  993.0  0.0476  0.0692  11.711596  6.966667   1.00  \n",
      "12  0.000653  4.54  993.0  0.0476  0.0692   9.878477  6.445470   1.00  \n",
      "13  0.000719  4.83  994.0  0.0397  0.0706  15.531755  7.122250   0.01  \n",
      "14  0.000719  4.83  994.0  0.0397  0.0706  24.296435  8.194045   0.01  \n"
     ]
    }
   ],
   "source": [
    "# non-dimensional constants\n",
    "ydata[\"Qs\"] = 10 * ydata[\"HeatFlux\"] / ydata[\"ul\"] / ydata[\"hlv\"] * np.sqrt(ydata[\"sigma\"]/gen/(ydata[\"rhol\"]-ydata[\"rhov\"]))*10\n",
    "ydata[\"Jas\"] = 100 * ydata[\"cpl\"] * ydata[\"Superheat\"] / ydata[\"hlv\"]\n",
    "ydata[\"g/gen\"] = ydata[\"g\"] / gen\n",
    "ydata.to_csv(\"./data/data4.csv\", index=False, sep=\",\")\n",
    "print(ydata)"
   ]
  },
  {
   "cell_type": "code",
   "execution_count": null,
   "metadata": {},
   "outputs": [],
   "source": []
  }
 ],
 "metadata": {
  "kernelspec": {
   "display_name": "Python 3",
   "language": "python",
   "name": "python3"
  },
  "language_info": {
   "codemirror_mode": {
    "name": "ipython",
    "version": 3
   },
   "file_extension": ".py",
   "mimetype": "text/x-python",
   "name": "python",
   "nbconvert_exporter": "python",
   "pygments_lexer": "ipython3",
   "version": "3.7.6"
  }
 },
 "nbformat": 4,
 "nbformat_minor": 4
}
